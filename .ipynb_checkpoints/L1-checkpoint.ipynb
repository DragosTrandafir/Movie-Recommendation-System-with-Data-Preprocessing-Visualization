{
 "cells": [
  {
   "cell_type": "markdown",
   "id": "6c3be370-5f3c-4ab7-922c-da6623fe7635",
   "metadata": {},
   "source": [
    "# Lab 1 - Introduction to Jupyter and Algorithmic Thinking\n",
    "\n",
    "## Overview\n",
    "This lab is designed to help you get comfortable with the **Jupyter Notebook** environment. \n",
    "\n",
    "The problems below serve as foundational exercises, introducing **matrix operations, lists and graphs**, which will later connect to **deep learning models**."
   ]
  },
  {
   "cell_type": "markdown",
   "id": "00fe0e81-749a-490b-80a7-7d0b9b277c06",
   "metadata": {},
   "source": [
    "## Problem 1: Matrix Convolution\n",
    "\n",
    "**Description:**\n",
    "Given a matrix of **N × M** dimensions with randomly generated values, implement a **convolution algorithm** that adjusts the value of each element using a **3×3 convolution kernel**.\n",
    "\n",
    "**Formula:**\n",
    "Each element at **(i, j)** should be updated as the **average of itself and its 8 neighboring elements**.\n",
    "- Ignore the boundary elements (i.e., elements on the first and last row/column should remain unchanged).\n",
    "\n"
   ]
  },
  {
   "cell_type": "code",
   "execution_count": 1,
   "id": "3ba92fd4-92e2-464c-b911-f891b73c32fd",
   "metadata": {},
   "outputs": [
    {
     "name": "stdin",
     "output_type": "stream",
     "text": [
      "Read n: 5\n",
      "Read m 5\n"
     ]
    },
    {
     "name": "stdout",
     "output_type": "stream",
     "text": [
      "[[181 145 154  43 153]\n",
      " [264 177  33   5 127]\n",
      " [214 185 163 153 246]\n",
      " [187 247 171  60 224]\n",
      " [267  43 181  48 210]]\n",
      "[[181 145 154  43 153]\n",
      " [264 168 116 128 127]\n",
      " [214 190 155 153 246]\n",
      " [187 183 131 156 224]\n",
      " [267  43 181  48 210]]\n"
     ]
    }
   ],
   "source": [
    "### Solve here\n",
    "import numpy as np\n",
    "# read matrix\n",
    "\n",
    "'''\n",
    "arr =[]\n",
    "n = int(input(\"Read n:\"))\n",
    "m = int(input(\"Read m\"))\n",
    "for i in range(n):\n",
    "    row_array=[]\n",
    "    for j in range(m):\n",
    "        row_array += [int(input(\"Read element:\"))]\n",
    "    arr += [row_array]\n",
    "print(arr)\n",
    "'''\n",
    "n = int(input(\"Read n:\"))\n",
    "m = int(input(\"Read m\"))\n",
    "arr = np.random.randint(0, 276, size=(n, m))\n",
    "print(arr)\n",
    "\n",
    "# apply convolution\n",
    "for i in range(1,n-1):\n",
    "    for j in range(1,m-1):\n",
    "        arr[i][j]= (arr[i][j] +arr[i-1][j]+arr[i+1][j] +arr[i][j-1]+arr[i][j+1] +arr[i-1][j+1]+arr[i-1][j-1] +arr[i+1][j+1]+arr[i+1][j-1])/9\n",
    "   \n",
    "print(arr)\n",
    "\n",
    "        "
   ]
  },
  {
   "cell_type": "markdown",
   "id": "2f4b62ac-d3c0-4994-9b20-31d5d8b637c8",
   "metadata": {},
   "source": [
    "## Problem 2: Prefix Sum Array\n",
    "**Description:**\n",
    "Given a list of **N** numbers, compute the **prefix sum array**, where each element at index `i` is the sum of all elements from index `0` to `i` in the original list.\n",
    "\n",
    "**Example:**\n",
    "```python\n",
    "Input: [1, 2, 3, 4, 5]\n",
    "Output: [1, 3, 6, 10, 15]\n",
    "```"
   ]
  },
  {
   "cell_type": "code",
   "execution_count": 2,
   "id": "632f9ecd-812f-4668-a5c7-dffa94194485",
   "metadata": {},
   "outputs": [
    {
     "name": "stdin",
     "output_type": "stream",
     "text": [
      "Read n: 5\n",
      "Read elem: 1\n",
      "Read elem: 2\n",
      "Read elem: 3\n",
      "Read elem: 4\n",
      "Read elem: 5\n"
     ]
    },
    {
     "name": "stdout",
     "output_type": "stream",
     "text": [
      "[1, 3, 6, 10, 15]\n"
     ]
    }
   ],
   "source": [
    "#### Solve here\n",
    "n = int(input(\"Read n:\"))\n",
    "a=[]\n",
    "while n!=0:\n",
    "    elem = int(input(\"Read elem:\"))\n",
    "    a+= [elem]\n",
    "    n= n-1\n",
    "prefix_a=[]\n",
    "for i in range(0, len(a)):\n",
    "    prefix_elem=0\n",
    "    for j in range(0,i+1):\n",
    "        prefix_elem += a[j]\n",
    "    prefix_a += [prefix_elem]\n",
    "\n",
    "print(prefix_a)"
   ]
  },
  {
   "cell_type": "markdown",
   "id": "93837114-71ac-4f6a-821a-7bacb0e9ab63",
   "metadata": {},
   "source": [
    "## Problem 3: Finding the Longest Increasing Subsequence\n",
    "\n",
    "**Description:**\n",
    "Given an array of **N** integers, find the length of the **longest increasing subsequence** (LIS). A subsequence is a sequence that appears in the same order but is not necessarily contiguous.\n",
    "\n",
    "**Example:**\n",
    "```python\n",
    "Input: [10, 9, 2, 5, 3, 7, 101, 18]\n",
    "Output: 4\n",
    "(Explanation: The LIS is [2, 3, 7, 101])\n",
    "```"
   ]
  },
  {
   "cell_type": "code",
   "execution_count": 3,
   "id": "81526c07-a766-4e9e-8916-47cc9429084a",
   "metadata": {},
   "outputs": [
    {
     "name": "stdin",
     "output_type": "stream",
     "text": [
      "Read n: 4\n",
      "Read elem: 10\n",
      "Read elem: 9\n",
      "Read elem: 2\n",
      "Read elem: 5\n"
     ]
    },
    {
     "name": "stdout",
     "output_type": "stream",
     "text": [
      "[1, 1, 1, 1]\n",
      "[1, 1, 1, 2]\n",
      "2\n"
     ]
    }
   ],
   "source": [
    "n = int(input(\"Read n:\"))\n",
    "a=[]\n",
    "seq_lengths=[]\n",
    "\n",
    "while n!=0:\n",
    "    elem = int(input(\"Read elem:\"))\n",
    "    a+= [elem]\n",
    "    seq_lengths += [1]\n",
    "    n= n-1\n",
    "\n",
    "print(seq_lengths)\n",
    "\n",
    "for i in range(0,len(a)):\n",
    "    for prev_i in range(0,i):\n",
    "        if a[i]>a[prev_i] and seq_lengths[i]< seq_lengths[prev_i]+1:\n",
    "            seq_lengths[i] = seq_lengths[prev_i]+1\n",
    "\n",
    "print(seq_lengths)\n",
    "print(max(seq_lengths))\n",
    "    \n",
    "\n"
   ]
  },
  {
   "cell_type": "markdown",
   "id": "73be1710-b4c2-4de8-86e5-5c6b4cffe676",
   "metadata": {},
   "source": [
    "## Problem 4: Binary Search on a Sorted Array\n",
    "**Description:**\n",
    "Given a **sorted array** of `N` integers and a **target value**, implement a **binary search algorithm** to check if the target exists in the array.\n",
    "\n",
    "**Example:**\n",
    "```python\n",
    "Input: arr = [1, 3, 5, 7, 9, 11], target = 5\n",
    "Output: True\n",
    "```"
   ]
  },
  {
   "cell_type": "code",
   "execution_count": 9,
   "id": "c383cb58-9a26-4480-820d-73b866ec9ed9",
   "metadata": {},
   "outputs": [
    {
     "name": "stdin",
     "output_type": "stream",
     "text": [
      "Read n: 2\n",
      "Read elem: 1\n",
      "Read elem: 2\n",
      "Read target: 9\n"
     ]
    },
    {
     "name": "stdout",
     "output_type": "stream",
     "text": [
      "None\n"
     ]
    }
   ],
   "source": [
    "### Solve here\n",
    "def binary_search(first,last,arr,target):\n",
    "    if first<=last:\n",
    "        middle = int((first + last)/2)\n",
    "        if arr[middle]<target:\n",
    "            return binary_search(middle+1, last, arr, target)\n",
    "        elif arr[middle]>target:\n",
    "            return binary_search(first, middle, arr, target)\n",
    "        else:\n",
    "            return True\n",
    "    return None\n",
    "        \n",
    "\n",
    "n = int(input(\"Read n:\"))\n",
    "a=[]\n",
    "while n!=0:\n",
    "    a += [int(input(\"Read elem:\"))]\n",
    "    n= n-1\n",
    "\n",
    "target = int(input(\"Read target:\"))\n",
    "print(binary_search(0, len(a)-1,a, target))\n"
   ]
  },
  {
   "cell_type": "markdown",
   "id": "5b741abe-57d7-4437-865b-a52db79620f1",
   "metadata": {},
   "source": [
    "## Problem 5: Shortest Path in an Unweighted Graph\n",
    "**Description:**\n",
    "Given an **undirected, unweighted graph** represented as an adjacency list, find the **shortest path** between a given start node and a target node using **Breadth-First Search (BFS)**.\n",
    "\n",
    "**Example Graph Representation:**\n",
    "```python\n",
    "graph = {\n",
    "    1: [2, 4],\n",
    "    2: [1, 3, 5],\n",
    "    3: [2, 6],\n",
    "    4: [1, 5],\n",
    "    5: [2, 4, 6],\n",
    "    6: [3, 5]\n",
    "}\n",
    "```\n",
    "\n",
    "**Example:**\n",
    "```python\n",
    "Input: start = 1, target = 6\n",
    "Output: [1, 2, 4, 3, 5, 6]\n",
    "```"
   ]
  },
  {
   "cell_type": "code",
   "execution_count": 10,
   "id": "02dc6162-336e-47e3-b52c-14fce8b8281c",
   "metadata": {},
   "outputs": [
    {
     "name": "stdout",
     "output_type": "stream",
     "text": [
      "[1, 2, 3]\n"
     ]
    }
   ],
   "source": [
    "from collections import deque\n",
    "\n",
    "def bfs_shortest(graph,start,target):\n",
    "    queue = deque([[start]])\n",
    "\n",
    "    while queue:\n",
    "        path = queue.popleft()\n",
    "        node = path[-1]\n",
    "\n",
    "        if node==target:\n",
    "            return path\n",
    "\n",
    "        for neighbor in graph.get(node,[]):\n",
    "            path_with_neighbor = list(path)\n",
    "            path_with_neighbor.append(neighbor)\n",
    "            queue.append(path_with_neighbor)\n",
    "    return None\n",
    "\n",
    "\n",
    "\n",
    "graph = {\n",
    "    1: [2, 4],\n",
    "    2: [1, 3, 5],\n",
    "    3: [2, 6],\n",
    "    4: [1, 5],\n",
    "    5: [2, 4, 6],\n",
    "    6: [3, 5]\n",
    "}\n",
    "\n",
    "print(bfs_shortest(graph,1,3))\n",
    "\n",
    "\n",
    "    "
   ]
  },
  {
   "cell_type": "code",
   "execution_count": null,
   "id": "466f2f8f-7a80-4df1-9a53-236b157ddb70",
   "metadata": {},
   "outputs": [],
   "source": []
  }
 ],
 "metadata": {
  "kernelspec": {
   "display_name": "Python 3 (ipykernel)",
   "language": "python",
   "name": "python3"
  },
  "language_info": {
   "codemirror_mode": {
    "name": "ipython",
    "version": 3
   },
   "file_extension": ".py",
   "mimetype": "text/x-python",
   "name": "python",
   "nbconvert_exporter": "python",
   "pygments_lexer": "ipython3",
   "version": "3.12.0"
  }
 },
 "nbformat": 4,
 "nbformat_minor": 5
}
